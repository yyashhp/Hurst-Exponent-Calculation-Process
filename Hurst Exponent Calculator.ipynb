{
 "cells": [
  {
   "cell_type": "markdown",
   "id": "d5854116",
   "metadata": {},
   "source": [
    "This program is to simply analyze a stock's price data and derive a Hurst exponent. This can be used to determine the type of market behavior that it has been recorded to show. A lower exponent, particularly below 0.5, shows a tendency of a time series to revert to its mean, howeer a higher one, particularly above 0.5, the stock's market shows trend-following tendencies, indicating a greater potential of success for momentum strategies. "
   ]
  },
  {
   "cell_type": "code",
   "execution_count": 10,
   "id": "7ac1b84d",
   "metadata": {},
   "outputs": [],
   "source": [
    "import pandas as pd\n",
    "import numpy as np\n",
    "import yfinance as yf\n"
   ]
  },
  {
   "cell_type": "code",
   "execution_count": 12,
   "id": "39326619",
   "metadata": {},
   "outputs": [
    {
     "name": "stdout",
     "output_type": "stream",
     "text": [
      "[*********************100%***********************]  1 of 1 completed\n"
     ]
    },
    {
     "data": {
      "text/plain": [
       "<AxesSubplot:title={'center':'S&P 500'}, xlabel='Date'>"
      ]
     },
     "execution_count": 12,
     "metadata": {},
     "output_type": "execute_result"
    },
    {
     "data": {
      "image/png": "[encoded data removed]",
      "text/plain": [
       "<Figure size 432x288 with 1 Axes>"
      ]
     },
     "metadata": {
      "needs_background": "light"
     },
     "output_type": "display_data"
    }
   ],
   "source": [
    "df = yf.download('^GSPC', start = '2000-01-01')[['Adj Close']]\n",
    "df.plot(title = \"S&P 500\")"
   ]
  },
  {
   "cell_type": "code",
   "execution_count": null,
   "id": "6bb4b446",
   "metadata": {},
   "outputs": [],
   "source": [
    "# Though the different periods can be observed visually, to get precise measurements the Hurst exponent can help\n",
    "# There are a few ways to calculate the Hurst exponenet; one is to estimate the rate of diffusion, based on the variance of \n",
    "# prices (logged) over different time gaps(lags), testing autocorrelation (correlation beteween the original and lagged time series)"
   ]
  },
  {
   "cell_type": "code",
   "execution_count": null,
   "id": "2a15bfb4",
   "metadata": {},
   "outputs": [],
   "source": [
    "# we first calculate the standard deviation of the differences between a series \n",
    "# and its lagged version, for a range of possible lags. We then estimatethe Hurst exponent \n",
    "# as the slope of the log-log plot of the number of lags versus the mentioned standard \n",
    "# deviations."
   ]
  },
  {
   "cell_type": "code",
   "execution_count": 13,
   "id": "71455926",
   "metadata": {},
   "outputs": [],
   "source": [
    "def get_hurst_exp(ts, max_lag=20):\n",
    "    lags = range(2,max_lag)\n",
    "    tau = [np.std(np.subtract(ts[lag:],\n",
    "ts[:-lag])) for lag in lags]\n",
    "    \n",
    "    return np.polyfit(np.log(lags),\n",
    "np.log(tau), 1)[0]\n",
    "# polyfit fits the data in a polynomial function, and calculates its slope. The data passed into polyfit is the x var, y var, and the degree\n",
    "# np.log(lags) is the x var, or indepedent var, as it is what the diffusion is parameterized by, and the y var,\n",
    "#  or dependent var, is np.log(tau), which is the variances of the lagged differences"
   ]
  },
  {
   "cell_type": "code",
   "execution_count": 18,
   "id": "82edafdf",
   "metadata": {},
   "outputs": [
    {
     "name": "stdout",
     "output_type": "stream",
     "text": [
      "20 lags:0.4753\n",
      "100 lags:0.4330\n",
      "250 lags:0.4787\n",
      "500 lags:0.4895\n",
      "1000 lags:0.4636\n"
     ]
    }
   ],
   "source": [
    "# printing the Hurst exponent at different lags...Over the entire time series, the S&P is close to random, however \n",
    "# in shorter lags, however, there is evidence of mean reversion. \n",
    "\n",
    "for lag in [20,100,250,500,1000]:\n",
    "    hurst_exp=get_hurst_exp(df.values,lag)\n",
    "    print(f\"{lag} lags:{hurst_exp:.4f}\")"
   ]
  },
  {
   "cell_type": "code",
   "execution_count": null,
   "id": "5c8931d2",
   "metadata": {},
   "outputs": [],
   "source": [
    "# as you can see, the Hurst exponent for the S&P is nearly 0.5, with a slight trend towards mean reversion, greater \n",
    "# shown in shorter lags"
   ]
  },
  {
   "cell_type": "code",
   "execution_count": null,
   "id": "2d38ccc3",
   "metadata": {},
   "outputs": [],
   "source": [
    "# When using a shorter time period, in this case the Financial Crisis in the mid 2000s, it will show the Hurst exponent\n",
    "# was much more mean-reverting, especially with more lags"
   ]
  },
  {
   "cell_type": "code",
   "execution_count": 22,
   "id": "960bac90",
   "metadata": {},
   "outputs": [
    {
     "name": "stdout",
     "output_type": "stream",
     "text": [
      "20 lags: 0.3989\n",
      "100 lags: 0.3215\n",
      "250 lags: 0.2507\n",
      "500 lags: 0.1258\n"
     ]
    }
   ],
   "source": [
    "shorter_series = df.loc[\"2005\":\"2007\"].values\n",
    "for lag in[20,100,250,500]:\n",
    "    hurst_exp = get_hurst_exp(shorter_series, lag)\n",
    "    print(f\"{lag} lags: {hurst_exp:.4f}\")"
   ]
  },
  {
   "cell_type": "code",
   "execution_count": null,
   "id": "bc6376eb",
   "metadata": {},
   "outputs": [],
   "source": []
  }
 ],
 "metadata": {
  "kernelspec": {
   "display_name": "Python 3 (ipykernel)",
   "language": "python",
   "name": "python3"
  },
  "language_info": {
   "codemirror_mode": {
    "name": "ipython",
    "version": 3
   },
   "file_extension": ".py",
   "mimetype": "text/x-python",
   "name": "python",
   "nbconvert_exporter": "python",
   "pygments_lexer": "ipython3",
   "version": "3.9.12"
  }
 },
 "nbformat": 4,
 "nbformat_minor": 5
}
